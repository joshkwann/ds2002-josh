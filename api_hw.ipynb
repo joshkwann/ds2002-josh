{
 "cells": [
  {
   "cell_type": "code",
   "execution_count": 1,
   "id": "d8f84e69-bb61-48bb-b99f-b832b27d8ebf",
   "metadata": {},
   "outputs": [],
   "source": [
    "import json\n",
    "import pandas as pd\n",
    "import requests"
   ]
  },
  {
   "cell_type": "code",
   "execution_count": 2,
   "id": "f05dd2cb-ae65-416b-a25a-4be08691e562",
   "metadata": {},
   "outputs": [
    {
     "name": "stdin",
     "output_type": "stream",
     "text": [
      "Please enter a stock ticker symbol:  AAPL\n"
     ]
    },
    {
     "name": "stdout",
     "output_type": "stream",
     "text": [
      "\n",
      "Apple Inc. (Ticker: AAPL)\n",
      "Current Price: $227.725\n",
      "Target Mean Price: $240.58\n",
      "52 Week High: $237.23\n",
      "52 Week Low: $164.08\n",
      "\n",
      "Top 5 Trending Stocks:\n",
      "AMSC\n",
      "PWR\n",
      "VRT\n",
      "SNAP\n",
      "BBD\n"
     ]
    }
   ],
   "source": [
    "apikey = \"blank\"\n",
    "quote_summary_url = \"https://yfapi.net/v11/finance/quoteSummary\"\n",
    "trending_url = \"https://yfapi.net/v1/finance/trending/US\"\n",
    "\n",
    "stock = input(\"Please enter a stock ticker symbol: \").upper()\n",
    "headers = {\n",
    "    'x-api-key': apikey\n",
    "}\n",
    "\n",
    "querystring = {\"modules\": \"price,summaryDetail,financialData\"}\n",
    "\n",
    "try:\n",
    "    response = requests.request(\"GET\", f\"{quote_summary_url}/{stock}\", headers=headers, params=querystring)\n",
    "    stock_json = response.json()\n",
    "\n",
    "    if 'quoteSummary' in stock_json and stock_json['quoteSummary']['result']:\n",
    "        stock_info = stock_json['quoteSummary']['result'][0]\n",
    "        price_info = stock_info['price']\n",
    "        summary_detail = stock_info['summaryDetail']\n",
    "        financial_data = stock_info['financialData']\n",
    "\n",
    "        ticker = price_info['symbol']\n",
    "        name = price_info.get('longName', 'N/A')\n",
    "        current_price = price_info.get('regularMarketPrice', {}).get('raw', 'N/A')\n",
    "        target_mean_price = financial_data.get('targetMeanPrice', {}).get('raw', 'N/A')\n",
    "        fifty_two_week_high = summary_detail.get('fiftyTwoWeekHigh', {}).get('raw', 'N/A')\n",
    "        fifty_two_week_low = summary_detail.get('fiftyTwoWeekLow', {}).get('raw', 'N/A')        \n",
    "        print(f\"\\n{name} (Ticker: {ticker})\")\n",
    "        print(f\"Current Price: ${current_price}\")\n",
    "        print(f\"Target Mean Price: ${target_mean_price}\")\n",
    "        print(f\"52 Week High: ${fifty_two_week_high}\")\n",
    "        print(f\"52 Week Low: ${fifty_two_week_low}\")\n",
    "\n",
    "        trending = []\n",
    "        try:\n",
    "            response = requests.request(\"GET\", trending_url, headers=headers)\n",
    "            trending_json = response.json()\n",
    "            if 'finance' in trending_json and trending_json['finance']['result']:\n",
    "                trending_stocks = trending_json['finance']['result'][0]['quotes'][:5]\n",
    "                trending = [stock.get('symbol', 'N/A') for stock in trending_stocks]\n",
    "\n",
    "                print(\"\\nTop 5 Trending Stocks:\")\n",
    "                for stock_symbol in trending:\n",
    "                    print(f\"{stock_symbol}\")\n",
    "            else:\n",
    "                print(\"\\nNo trending stocks available.\")\n",
    "        \n",
    "        except Exception as e:\n",
    "            print(f\"Error fetching trending stocks: {e}\")\n",
    "\n",
    "        stock_data_df = pd.DataFrame({\n",
    "            \"Ticker\": [ticker],\n",
    "            \"Name\": [name],\n",
    "            \"Current Price\": [current_price],\n",
    "            \"Target Mean Price\": [target_mean_price],\n",
    "            \"52 Week High\": [fifty_two_week_high],\n",
    "            \"52 Week Low\": [fifty_two_week_low],\n",
    "            \"Trending Stock 1\": [trending[0]],\n",
    "            \"Trending Stock 2\": [trending[1]],\n",
    "            \"Trending Stock 3\": [trending[2]],\n",
    "            \"Trending Stock 4\": [trending[3]],\n",
    "            \"Trending Stock 5\": [trending[4]]\n",
    "        })\n",
    "\n",
    "        stock_data_df.to_csv('stock_data.csv', index=False)\n",
    "    else:\n",
    "        print(f\"No data found for: {stock}\")\n",
    "\n",
    "except Exception as e:\n",
    "    print(f\"Error fetching data for {stock}: {e}\")\n"
   ]
  },
  {
   "cell_type": "code",
   "execution_count": null,
   "id": "eb91b626-f521-47dd-ac0e-65675835b5ba",
   "metadata": {},
   "outputs": [],
   "source": []
  }
 ],
 "metadata": {
  "kernelspec": {
   "display_name": "Python 3 (ipykernel)",
   "language": "python",
   "name": "python3"
  },
  "language_info": {
   "codemirror_mode": {
    "name": "ipython",
    "version": 3
   },
   "file_extension": ".py",
   "mimetype": "text/x-python",
   "name": "python",
   "nbconvert_exporter": "python",
   "pygments_lexer": "ipython3",
   "version": "3.12.5"
  }
 },
 "nbformat": 4,
 "nbformat_minor": 5
}
