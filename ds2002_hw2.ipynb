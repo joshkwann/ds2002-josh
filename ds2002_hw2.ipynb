{
 "cells": [
  {
   "cell_type": "code",
   "execution_count": 1,
   "id": "3d8cf7f4-8910-4200-82e2-fb9cd6b70f73",
   "metadata": {},
   "outputs": [],
   "source": [
    "import sqlite3\n",
    "connection = sqlite3.connect('student_grades.db')\n",
    "cursor = connection.cursor()"
   ]
  },
  {
   "cell_type": "code",
   "execution_count": 2,
   "id": "be393e9c-63da-40ad-b678-661b314275b0",
   "metadata": {},
   "outputs": [
    {
     "data": {
      "text/plain": [
       "<sqlite3.Cursor at 0x1180aa440>"
      ]
     },
     "execution_count": 2,
     "metadata": {},
     "output_type": "execute_result"
    }
   ],
   "source": [
    "cursor.execute('''\n",
    "CREATE TABLE IF NOT EXISTS students (\n",
    "student_id INTEGER PRIMARY KEY AUTOINCREMENT, \n",
    "first_name TEXT,\n",
    "last_name TEXT)\n",
    "''')\n",
    "\n",
    "cursor.execute('''\n",
    "CREATE TABLE IF NOT EXISTS grades (\n",
    "grades_id INTEGER PRIMARY KEY AUTOINCREMENT,\n",
    "student_id INTEGER,\n",
    "subject TEXT,\n",
    "grade INT,\n",
    "FOREIGN KEY (student_id) REFERENCES students(student_id))\n",
    "''')"
   ]
  },
  {
   "cell_type": "code",
   "execution_count": 3,
   "id": "5c6bf0dd-8f2a-4734-9f73-9f5a5251df54",
   "metadata": {},
   "outputs": [],
   "source": [
    "student_data = [\n",
    "    ('Alice','Johnson'),\n",
    "    ('Bob', 'Smith'),\n",
    "    ('Carol','White'),\n",
    "    ('David', 'Brown'),\n",
    "    ('Eve', 'Davis')\n",
    "]\n",
    "\n",
    "cursor.executemany('''\n",
    "INSERT INTO students (first_name, last_name) VALUES (?, ?)\n",
    "''', student_data)\n",
    "\n",
    "connection.commit()"
   ]
  },
  {
   "cell_type": "code",
   "execution_count": 4,
   "id": "0b8dbc44-3543-4927-a611-ba6c121fa779",
   "metadata": {
    "editable": true,
    "slideshow": {
     "slide_type": ""
    },
    "tags": []
   },
   "outputs": [],
   "source": [
    "grades_data = [\n",
    "    (1,'Math', 95),\n",
    "    (1,'English', 88),\n",
    "    (1, 'History', 90),\n",
    "    (2, 'Math', 82), \n",
    "    (2, 'English', 76),\n",
    "    (2, 'History', 85),\n",
    "    (3, 'Math', 91),\n",
    "    (3, 'Science', 70),\n",
    "    (3, 'History', 100),\n",
    "    (4, 'Art', 76),\n",
    "    (4, 'History', 91),\n",
    "    (4, 'English', 81),\n",
    "    (5, 'History', 78),\n",
    "    (5, 'Art', 98),\n",
    "    (5, 'Science', 94)\n",
    "]\n",
    "\n",
    "cursor.executemany('''\n",
    "INSERT INTO grades (student_id, subject, grade) VALUES (?, ?, ?)\n",
    "''', grades_data)\n",
    "\n",
    "connection.commit()"
   ]
  },
  {
   "cell_type": "code",
   "execution_count": 5,
   "id": "8d977113-da33-4887-b81f-a6cd075ea597",
   "metadata": {},
   "outputs": [
    {
     "name": "stdout",
     "output_type": "stream",
     "text": [
      "Student: Alice, Grade: 95\n",
      "Student: Alice, Grade: 88\n",
      "Student: Alice, Grade: 90\n",
      "Student: Bob, Grade: 82\n",
      "Student: Bob, Grade: 76\n",
      "Student: Bob, Grade: 85\n",
      "Student: Carol, Grade: 91\n",
      "Student: Carol, Grade: 70\n",
      "Student: Carol, Grade: 100\n",
      "Student: David, Grade: 76\n",
      "Student: David, Grade: 91\n",
      "Student: David, Grade: 81\n",
      "Student: Eve, Grade: 78\n",
      "Student: Eve, Grade: 98\n",
      "Student: Eve, Grade: 94\n"
     ]
    }
   ],
   "source": [
    "cursor.execute(\"SELECT students.first_name, grades.grade FROM students JOIN grades ON students.student_id = grades.student_id\")\n",
    "all_grades = cursor.fetchall()\n",
    "for row in all_grades:\n",
    "    print(f\"Student: {row[0]}, Grade: {row[1]}\")"
   ]
  },
  {
   "cell_type": "code",
   "execution_count": 6,
   "id": "077a86a4-b8ab-4e74-9819-66147167f148",
   "metadata": {},
   "outputs": [
    {
     "name": "stdout",
     "output_type": "stream",
     "text": [
      "Student: Alice, Average Grade: 91.0\n",
      "Student: Bob, Average Grade: 81.0\n",
      "Student: Carol, Average Grade: 87.0\n",
      "Student: David, Average Grade: 82.66666666666667\n",
      "Student: Eve, Average Grade: 90.0\n"
     ]
    }
   ],
   "source": [
    "cursor.execute(\"SELECT students.first_name, AVG(grades.grade) FROM students JOIN grades ON students.student_id = grades.student_id GROUP BY students.student_id\")\n",
    "avg_grades = cursor.fetchall()\n",
    "\n",
    "for row in avg_grades:\n",
    "    print(f\"Student: {row[0]}, Average Grade: {row[1]}\")"
   ]
  },
  {
   "cell_type": "code",
   "execution_count": 7,
   "id": "76c71fa1-43e4-4447-beae-21b20c16a6e8",
   "metadata": {},
   "outputs": [
    {
     "name": "stdout",
     "output_type": "stream",
     "text": [
      "Student with the highest average grade: Alice\n"
     ]
    }
   ],
   "source": [
    "cursor.execute(\"SELECT students.first_name, AVG(grades.grade) AS average_grade FROM students JOIN grades ON students.student_id = grades.student_id GROUP BY students.student_id ORDER BY average_grade DESC LIMIT 1\")\n",
    "highest_avg_grade = cursor.fetchone()\n",
    "\n",
    "print(f\"Student with the highest average grade: {highest_avg_grade[0]}\")"
   ]
  },
  {
   "cell_type": "code",
   "execution_count": 8,
   "id": "3c129ae0-9bcf-44f1-aef2-4bb905d788d8",
   "metadata": {},
   "outputs": [
    {
     "name": "stdout",
     "output_type": "stream",
     "text": [
      "Average grade for Math: 89.33333333333333\n"
     ]
    }
   ],
   "source": [
    "cursor.execute(\"SELECT AVG(grades.grade) FROM grades WHERE grades.subject = 'Math' \")\n",
    "avg_grade = cursor.fetchone()\n",
    "print(f\"Average grade for Math: {avg_grade[0]}\")"
   ]
  },
  {
   "cell_type": "code",
   "execution_count": 9,
   "id": "07d64890-e2f7-4b80-a165-fbc898c536c4",
   "metadata": {},
   "outputs": [
    {
     "name": "stdout",
     "output_type": "stream",
     "text": [
      "Student: Alice\n",
      "Student: Carol\n",
      "Student: Carol\n",
      "Student: David\n",
      "Student: Eve\n",
      "Student: Eve\n"
     ]
    }
   ],
   "source": [
    "cursor.execute(\"SELECT students.first_name FROM students JOIN grades ON students.student_id = grades.student_id WHERE grades.grade > 90\")\n",
    "students = cursor.fetchall()\n",
    "\n",
    "for row in students:\n",
    "    print(f\"Student: {row[0]}\")"
   ]
  },
  {
   "cell_type": "code",
   "execution_count": 10,
   "id": "8fef42f6-b215-4c0a-8fb6-8a78975ed9fd",
   "metadata": {},
   "outputs": [],
   "source": [
    "import pandas as pd\n",
    "connection = sqlite3.connect('student_grades.db')\n",
    "\n",
    "students_df = pd.read_sql_query('SELECT * FROM students', connection)\n",
    "grades_df = pd.read_sql_query('SELECT * FROM grades', connection)"
   ]
  },
  {
   "cell_type": "code",
   "execution_count": 11,
   "id": "4c1643c3-497c-47cd-9284-0ffcd61f1640",
   "metadata": {},
   "outputs": [],
   "source": [
    "connection = sqlite3.connect('student_grades.db')\n",
    "\n",
    "combined_df = pd.read_sql_query('''\n",
    "SELECT students.first_name, students.last_name, grades.subject, grades.grade\n",
    "FROM students\n",
    "JOIN grades ON students.student_id = grades.student_id\n",
    "''', connection)\n"
   ]
  },
  {
   "cell_type": "code",
   "execution_count": 12,
   "id": "1e4b39ef-e3db-47f9-b5e0-d78ac42fa091",
   "metadata": {},
   "outputs": [
    {
     "data": {
      "image/png": "[encoded data removed]",
      "text/plain": [
       "<Figure size 1000x600 with 1 Axes>"
      ]
     },
     "metadata": {},
     "output_type": "display_data"
    },
    {
     "data": {
      "image/png": "[encoded data removed]",
      "text/plain": [
       "<Figure size 1000x600 with 1 Axes>"
      ]
     },
     "metadata": {},
     "output_type": "display_data"
    }
   ],
   "source": [
    "import matplotlib.pyplot as plt\n",
    "\n",
    "connection = sqlite3.connect('student_grades.db')\n",
    "\n",
    "avg_grades_df = pd.read_sql_query('''\n",
    "SELECT students.first_name, AVG(grades.grade) AS average_grade\n",
    "FROM students\n",
    "JOIN grades ON students.student_id = grades.student_id\n",
    "GROUP BY students.student_id\n",
    "''', connection)\n",
    "\n",
    "avg_subject_grades_df = pd.read_sql_query('''\n",
    "SELECT subject, AVG(grade) AS average_grade\n",
    "FROM grades\n",
    "GROUP BY subject\n",
    "''', connection)\n",
    "\n",
    "#average grades for each student\n",
    "plt.figure(figsize=(10, 6))\n",
    "plt.bar(avg_grades_df['first_name'], avg_grades_df['average_grade'], color='red')\n",
    "plt.xlabel('Student')\n",
    "plt.ylabel('Average Grade')\n",
    "plt.title('Average Grades for Each Student')\n",
    "plt.show()\n",
    "\n",
    "# average grade for each subject\n",
    "plt.figure(figsize=(10, 6))\n",
    "plt.bar(avg_subject_grades_df['subject'], avg_subject_grades_df['average_grade'], color='blue')\n",
    "plt.xlabel('Subject')\n",
    "plt.ylabel('Average Grade')\n",
    "plt.title('Average Grade for Each Subject')\n",
    "plt.show()"
   ]
  },
  {
   "cell_type": "code",
   "execution_count": null,
   "id": "9946bab6-c249-493d-84fd-43f6a0d8e2ae",
   "metadata": {},
   "outputs": [],
   "source": [
    "#DELETE ALL THE DATA\n",
    "import sqlite3\n",
    "connection = sqlite3.connect('student_grades.db')\n",
    "cursor = connection.cursor()\n",
    "\n",
    "cursor.execute(\"DELETE FROM students\")\n",
    "cursor.execute(\"DELETE FROM grades\")\n",
    "connection.commit()\n",
    "\n",
    "print(\"All data from student and grades tables has been deleted.\")"
   ]
  },
  {
   "cell_type": "code",
   "execution_count": null,
   "id": "0315d3f6-d6ef-48f0-9e28-dc333013a28f",
   "metadata": {},
   "outputs": [],
   "source": []
  }
 ],
 "metadata": {
  "kernelspec": {
   "display_name": "Python 3 (ipykernel)",
   "language": "python",
   "name": "python3"
  },
  "language_info": {
   "codemirror_mode": {
    "name": "ipython",
    "version": 3
   },
   "file_extension": ".py",
   "mimetype": "text/x-python",
   "name": "python",
   "nbconvert_exporter": "python",
   "pygments_lexer": "ipython3",
   "version": "3.12.5"
  }
 },
 "nbformat": 4,
 "nbformat_minor": 5
}
